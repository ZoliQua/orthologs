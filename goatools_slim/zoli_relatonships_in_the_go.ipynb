{
 "cells": [
  {
   "cell_type": "markdown",
   "metadata": {},
   "source": [
    "# Relationships in the GO\n",
    "_Alex Warwick Vesztrocy, March 2016_"
   ]
  },
  {
   "cell_type": "markdown",
   "metadata": {},
   "source": [
    "For some analyses, it is possible to only use the <code>is_a</code> definitions given in the Gene Ontology. \n",
    "\n",
    "However, it is important to remember that this isn't always the case. As such, <code>GOATOOLS</code> includes the option to load the relationship definitions also."
   ]
  },
  {
   "cell_type": "markdown",
   "metadata": {},
   "source": [
    "## Loading GO graph with the relationship tags\n",
    "This is possible by using the <code>optional_attrs</code> argument, upon instantiating a <code>GODag</code>."
   ]
  },
  {
   "cell_type": "code",
   "execution_count": 1,
   "metadata": {},
   "outputs": [
    {
     "name": "stdout",
     "output_type": "stream",
     "text": [
      "go-basic.obo: fmt(1.2) rel(2021-05-01) 47,284 GO Terms; optional_attrs(relationship)\n"
     ]
    }
   ],
   "source": [
    "import os\n",
    "from goatools.obo_parser import GODag\n",
    "\n",
    "if not os.path.exists('go-basic.obo'):\n",
    "    !wget http://geneontology.org/ontology/go-basic.obo\n",
    "go = GODag('go-basic.obo', optional_attrs=['relationship'])"
   ]
  },
  {
   "cell_type": "markdown",
   "metadata": {},
   "source": [
    "## Viewing relationships in the GO graph"
   ]
  },
  {
   "cell_type": "markdown",
   "metadata": {},
   "source": [
    "So now, when looking at an individual term (which has a relationship defined in the GO) these are listed in a nested manner. As an example, look at <code>GO:1901990</code> which has a single <code>regulates</code> relationship."
   ]
  },
  {
   "cell_type": "code",
   "execution_count": 3,
   "metadata": {},
   "outputs": [],
   "source": [
    "eg_term = go['GO:0007049']"
   ]
  },
  {
   "cell_type": "code",
   "execution_count": 4,
   "metadata": {},
   "outputs": [
    {
     "data": {
      "text/plain": "GOTerm('GO:0007049'):\n  id:GO:0007049\n  item_id:GO:0007049\n  name:cell cycle\n  namespace:biological_process\n  _parents: 1 items\n    GO:0009987\n  parents: 1 items\n    GO:0009987\tlevel-01\tdepth-01\tcellular process [biological_process]\n  children: 2 items\n    GO:0000278\tlevel-03\tdepth-03\tmitotic cell cycle [biological_process]\n    GO:0051321\tlevel-02\tdepth-03\tmeiotic cell cycle [biological_process]\n  level:2\n  depth:2\n  is_obsolete:False\n  alt_ids: 0 items\n  relationship: 0 items\n  relationship_rev: 4 items\n    part_of: 1 items\n      GO:0022402\tlevel-02\tdepth-02\tcell cycle process [biological_process]\n    negatively_regulates: 1 items\n      GO:0045786\tlevel-05\tdepth-05\tnegative regulation of cell cycle [biological_process]\n    positively_regulates: 1 items\n      GO:0045787\tlevel-05\tdepth-05\tpositive regulation of cell cycle [biological_process]\n    regulates: 1 items\n      GO:0051726\tlevel-04\tdepth-04\tregulation of cell cycle [biological_process]"
     },
     "execution_count": 4,
     "metadata": {},
     "output_type": "execute_result"
    }
   ],
   "source": [
    "eg_term"
   ]
  },
  {
   "cell_type": "markdown",
   "metadata": {},
   "source": [
    "These different relationship types are stored as a dictionary within the relationship attribute on a GO term."
   ]
  },
  {
   "cell_type": "code",
   "execution_count": 6,
   "metadata": {},
   "outputs": [
    {
     "name": "stdout",
     "output_type": "stream",
     "text": [
      "dict_keys(['part_of', 'negatively_regulates', 'positively_regulates', 'regulates'])\n"
     ]
    }
   ],
   "source": [
    "print(eg_term.relationship_rev.keys())"
   ]
  },
  {
   "cell_type": "code",
   "execution_count": 7,
   "metadata": {},
   "outputs": [
    {
     "ename": "KeyError",
     "evalue": "'regulates'",
     "output_type": "error",
     "traceback": [
      "\u001B[0;31m---------------------------------------------------------------------------\u001B[0m",
      "\u001B[0;31mKeyError\u001B[0m                                  Traceback (most recent call last)",
      "\u001B[0;32m<ipython-input-7-1fce977c33ca>\u001B[0m in \u001B[0;36m<module>\u001B[0;34m\u001B[0m\n\u001B[0;32m----> 1\u001B[0;31m \u001B[0mprint\u001B[0m\u001B[0;34m(\u001B[0m\u001B[0meg_term\u001B[0m\u001B[0;34m.\u001B[0m\u001B[0mrelationship\u001B[0m\u001B[0;34m[\u001B[0m\u001B[0;34m'regulates'\u001B[0m\u001B[0;34m]\u001B[0m\u001B[0;34m)\u001B[0m\u001B[0;34m\u001B[0m\u001B[0;34m\u001B[0m\u001B[0m\n\u001B[0m\u001B[1;32m      2\u001B[0m \u001B[0;34m\u001B[0m\u001B[0m\n",
      "\u001B[0;31mKeyError\u001B[0m: 'regulates'"
     ]
    }
   ],
   "source": [
    "print(eg_term.relationship['regulates'])"
   ]
  },
  {
   "cell_type": "markdown",
   "metadata": {},
   "source": [
    "## Example use case\n",
    "One example use case for the relationship terms, would be to look for all functions which regulate pseudohyphal growth (<code>GO:0007124</code>). That is:\n",
    "\n",
    "> A pattern of cell growth that occurs in conditions of nitrogen limitation and abundant fermentable carbon source. Cells become elongated, switch to a unipolar budding pattern, remain physically attached to each other, and invade the growth substrate. \n",
    ">\n",
    "> _Source: https://www.ebi.ac.uk/QuickGO/GTerm?id=GO:0007124#term=info&info=1_"
   ]
  },
  {
   "cell_type": "code",
   "execution_count": 8,
   "metadata": {},
   "outputs": [],
   "source": [
    "term_of_interest = go['GO:0007124']"
   ]
  },
  {
   "cell_type": "markdown",
   "metadata": {},
   "source": [
    "First, find the relationship types which contain \"regulates\":"
   ]
  },
  {
   "cell_type": "code",
   "execution_count": 9,
   "metadata": {},
   "outputs": [
    {
     "name": "stdout",
     "output_type": "stream",
     "text": [
      "frozenset({'negatively_regulates', 'regulates', 'positively_regulates'})\n"
     ]
    }
   ],
   "source": [
    "regulates = frozenset([typedef \n",
    "                       for typedef in go.typedefs.keys() \n",
    "                       if 'regulates' in typedef])\n",
    "print(regulates)"
   ]
  },
  {
   "cell_type": "markdown",
   "metadata": {},
   "source": [
    "Now, search through the terms in the tree for those with a relationship in this list and add them to a dictionary dependent on the type of regulation."
   ]
  },
  {
   "cell_type": "code",
   "execution_count": 8,
   "metadata": {},
   "outputs": [],
   "source": [
    "from collections import defaultdict\n",
    "\n",
    "regulating_terms = defaultdict(list)\n",
    "\n",
    "for t in go.values():\n",
    "    if hasattr(t, 'relationship'):\n",
    "        for typedef in regulates.intersection(t.relationship.keys()):\n",
    "            if term_of_interest in t.relationship[typedef]:\n",
    "                regulating_terms['{:s}d_by'.format(typedef[:-1])].append(t)"
   ]
  },
  {
   "cell_type": "markdown",
   "metadata": {},
   "source": [
    "Now <code>regulating_terms</code> contains the GO terms which relate to regulating protein localisation to the nucleolus."
   ]
  },
  {
   "cell_type": "code",
   "execution_count": 9,
   "metadata": {},
   "outputs": [
    {
     "name": "stdout",
     "output_type": "stream",
     "text": [
      "pseudohyphal growth (GO:0007124) is:\n",
      "\n",
      "  - regulated_by:\n",
      "    -- GO:2000220 regulation of pseudohyphal growth\n",
      "    -- GO:2000222 positive regulation of pseudohyphal growth\n",
      "    -- GO:2000221 negative regulation of pseudohyphal growth\n",
      "\n",
      "  - negatively_regulated_by:\n",
      "    -- GO:2000221 negative regulation of pseudohyphal growth\n",
      "    -- GO:1900462 negative regulation of pseudohyphal growth by negative regulation of transcription from RNA polymerase II promoter\n",
      "    -- GO:0100042 negative regulation of pseudohyphal growth by transcription from RNA polymerase II promoter\n",
      "\n",
      "  - positively_regulated_by:\n",
      "    -- GO:2000222 positive regulation of pseudohyphal growth\n",
      "    -- GO:0100041 positive regulation of pseudohyphal growth by transcription from RNA polymerase II promoter\n",
      "    -- GO:1900461 positive regulation of pseudohyphal growth by positive regulation of transcription from RNA polymerase II promoter\n"
     ]
    }
   ],
   "source": [
    "print('{:s} ({:s}) is:'.format(term_of_interest.name, term_of_interest.id))\n",
    "for regulate_desc, goterms in regulating_terms.items():\n",
    "    print('\\n  - {:s}:'.format(regulate_desc))\n",
    "    for goterm in goterms:\n",
    "        print('    -- {:s} {:s}'.format(goterm.id, goterm.name))\n",
    "        for gochild in goterm.children:\n",
    "            print('    -- {:s} {:s}'.format(gochild.id, gochild.name))"
   ]
  },
  {
   "cell_type": "code",
   "execution_count": 13,
   "metadata": {},
   "outputs": [
    {
     "data": {
      "text/plain": [
       "GOTerm('GO:1904659'):\n",
       "  id:GO:1904659\n",
       "  item_id:GO:1904659\n",
       "  name:glucose transmembrane transport\n",
       "  namespace:biological_process\n",
       "  _parents: 1 items\n",
       "    GO:0008645\n",
       "  parents: 1 items\n",
       "    GO:0008645\tlevel-05\tdepth-08\thexose transmembrane transport [biological_process]\n",
       "  children: 2 items\n",
       "    GO:0035623\tlevel-05\tdepth-10\trenal glucose absorption [biological_process]\n",
       "    GO:0046323\tlevel-07\tdepth-10\tglucose import [biological_process]\n",
       "  level:6\n",
       "  depth:9\n",
       "  is_obsolete:False\n",
       "  alt_ids: 1 items\n",
       "    GO:0015758\n",
       "  relationship: 0 items\n",
       "  relationship_rev: 3 items\n",
       "    regulates: 1 items\n",
       "      GO:0010827\tlevel-05\tdepth-06\tregulation of glucose transmembrane transport [biological_process]\n",
       "    positively_regulates: 1 items\n",
       "      GO:0010828\tlevel-06\tdepth-07\tpositive regulation of glucose transmembrane transport [biological_process]\n",
       "    negatively_regulates: 1 items\n",
       "      GO:0010829\tlevel-06\tdepth-07\tnegative regulation of glucose transmembrane transport [biological_process]"
      ]
     },
     "execution_count": 13,
     "metadata": {},
     "output_type": "execute_result"
    }
   ],
   "source": [
    "go['GO:1904659']\n"
   ]
  },
  {
   "cell_type": "code",
   "execution_count": null,
   "metadata": {},
   "outputs": [],
   "source": []
  }
 ],
 "metadata": {
  "kernelspec": {
   "display_name": "Python 3 (Conda)",
   "language": "python",
   "name": "python3"
  },
  "language_info": {
   "codemirror_mode": {
    "name": "ipython",
    "version": 3
   },
   "file_extension": ".py",
   "mimetype": "text/x-python",
   "name": "python",
   "nbconvert_exporter": "python",
   "pygments_lexer": "ipython3",
   "version": "3.8.5"
  }
 },
 "nbformat": 4,
 "nbformat_minor": 1
}