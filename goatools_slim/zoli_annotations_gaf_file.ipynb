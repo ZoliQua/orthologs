{
 "cells": [
  {
   "cell_type": "markdown",
   "metadata": {},
   "source": [
    "# Reading Annotations from a _GO Association File_ (GAF)"
   ]
  },
  {
   "cell_type": "markdown",
   "metadata": {},
   "source": [
    "1. Download a GAF file\n",
    "2. Load the GAF file into the GafReader\n",
    "3. Get Annotations\n",
    "\n",
    "**Bonus: Each line in the GAF file is stored in a namedtuple**:\n",
    "  * Namedtuple fields\n",
    "  * Print a subset of the namedtuple fields"
   ]
  },
  {
   "cell_type": "markdown",
   "metadata": {},
   "source": [
    "## 1) Download a GAF file"
   ]
  },
  {
   "cell_type": "code",
   "execution_count": 2,
   "metadata": {},
   "outputs": [],
   "source": [
    "# import os\n",
    "# if not os.path.exists('goa_human.gaf.gz'):\n",
    "#     !wget http://current.geneontology.org/annotations/goa_human.gaf.gz\n",
    "#     !gunzip goa_human.gaf.gz"
   ]
  },
  {
   "cell_type": "markdown",
   "metadata": {},
   "source": [
    "## 2) Load the GAF file into the GafReader"
   ]
  },
  {
   "cell_type": "code",
   "execution_count": 6,
   "metadata": {},
   "outputs": [
    {
     "name": "stdout",
     "output_type": "stream",
     "text": [
      "HMS:0:00:03.294371 226,662 annotations READ: data/goa_3702_arabidopsis.gaf \n",
      "HMS:0:00:01.478451  55,625 annotations READ: data/goa_4896_pombe.gaf \n",
      "HMS:0:00:03.345486 126,324 annotations READ: data/goa_6239_celegans.gaf \n",
      "HMS:0:00:03.589365 116,575 annotations READ: data/goa_7227_dmelanogaster.gaf \n",
      "HMS:0:00:04.822762 260,705 annotations READ: data/goa_7955_zfish.gaf \n",
      "HMS:0:00:15.238094 619,347 annotations READ: data/goa_9606_human.gaf \n",
      "HMS:0:00:01.533428 120,173 annotations READ: data/goa_559292_cerevisiae.gaf \n"
     ]
    }
   ],
   "source": [
    "from goatools.anno.gaf_reader import GafReader\n",
    "\n",
    "dir_source = \"data/\"\n",
    "\n",
    "gaf_reader = {}\n",
    "gaf_reader[3702] = GafReader(dir_source + \"goa_3702_arabidopsis.gaf\")\n",
    "gaf_reader[4896] = GafReader(dir_source + \"goa_4896_pombe.gaf\")\n",
    "gaf_reader[6239] = GafReader(dir_source + \"goa_6239_celegans.gaf\")\n",
    "gaf_reader[7227] = GafReader(dir_source + \"goa_7227_dmelanogaster.gaf\")\n",
    "gaf_reader[7955] = GafReader(dir_source + \"goa_7955_zfish.gaf\")\n",
    "gaf_reader[9606] = GafReader(dir_source + \"goa_9606_human.gaf\")\n",
    "gaf_reader[559292] = GafReader(dir_source + \"goa_559292_cerevisiae.gaf\")\n"
   ]
  },
  {
   "cell_type": "markdown",
   "metadata": {},
   "source": [
    "## 3) Get Annotations\n",
    "The annotations will be stored in three dicts, one for each GODAG branch, where:\n",
    "  * the key is the protein ID and \n",
    "  * the value is a list of GO IDs associated with the protein."
   ]
  },
  {
   "cell_type": "code",
   "execution_count": 12,
   "metadata": {},
   "outputs": [],
   "source": [
    "ns2assoc_dict = {}\n",
    "ns2assoc_dict['3702'] = gaf_reader[3702].get_ns2assc()\n",
    "# ns2assoc_dict['3702']\n",
    "# ns2assc = ogaf.get_ns2assc()"
   ]
  },
  {
   "cell_type": "code",
   "execution_count": 18,
   "metadata": {},
   "outputs": [
    {
     "name": "stdout",
     "output_type": "stream",
     "text": [
      "BP P50525  : GO:0006284\n",
      "BP Q9P3E3  : GO:0006090 GO:0006108\n",
      "BP SPAC1002.01 : GO:0140053\n",
      "BP SPAC1002.02 : GO:0006913\n",
      "BP SPAC1002.03c : GO:0006487 GO:0006491\n",
      "BP SPAC1002.04c : GO:0051123\n",
      "BP SPAC1002.05c : GO:0000122 GO:0006338 GO:0016577\n",
      "BP SPAC1002.06c : GO:0032121 GO:0045141\n",
      "BP SPAC1002.07c : GO:0006473 GO:0009447\n",
      "BP SPAC1002.08c : GO:0006391 GO:0045944 GO:1903109\n",
      "BP SPAC1002.09c : GO:0006086 GO:0006091 GO:0006103 GO:0019464 GO:0045454\n",
      "BP SPAC1002.10c : GO:0045292\n",
      "BP SPAC1002.11 : GO:0016255\n",
      "BP SPAC1002.12c : GO:0006540 GO:0009450\n",
      "BP SPAC1002.13c : GO:0000272 GO:0031505 GO:0071852\n",
      "MF P50525  : GO:0003906 GO:0008081\n",
      "MF Q9P3E3  : GO:0004470 GO:0004471\n",
      "MF SPAC1002.03c : GO:0004553 GO:0030246 GO:0033919 GO:0090599\n",
      "MF SPAC1002.04c : GO:0003713 GO:0008134 GO:0016251\n",
      "MF SPAC1002.05c : GO:0003677 GO:0008270 GO:0032452 GO:0032453 GO:0034647 GO:0034648 GO:0051864\n",
      "MF SPAC1002.06c : GO:0005515 GO:0030674\n",
      "MF SPAC1002.07c : GO:0004145 GO:0008080\n",
      "MF SPAC1002.08c : GO:0016433\n",
      "MF SPAC1002.09c : GO:0004148 GO:0004375 GO:0004591 GO:0004739 GO:0050660\n",
      "MF SPAC1002.10c : GO:0070990\n",
      "MF SPAC1002.11 : GO:0003923\n",
      "MF SPAC1002.12c : GO:0004777\n",
      "MF SPAC1002.13c : GO:0008422\n",
      "MF SPAC1002.14 : GO:0008270 GO:0031624 GO:0061630\n",
      "MF SPAC1002.15c : GO:0003713\n",
      "CC P50525  : GO:0005634 GO:0005739\n",
      "CC Q9P3E3  : GO:0005739 GO:0005829\n",
      "CC SPAC1002.01 : GO:0005739 GO:0016021 GO:0099617\n",
      "CC SPAC1002.02 : GO:0005643 GO:1990578\n",
      "CC SPAC1002.03c : GO:0005783 GO:0017177\n",
      "CC SPAC1002.04c : GO:0000785 GO:0005634 GO:0005669 GO:0005829\n",
      "CC SPAC1002.05c : GO:0000785 GO:0005634\n",
      "CC SPAC1002.06c : GO:0035974 GO:0044732 GO:0110092 GO:0140445\n",
      "CC SPAC1002.07c : GO:0005634 GO:0005829\n",
      "CC SPAC1002.08c : GO:0000785 GO:0005634 GO:0005739 GO:0005759 GO:0034245\n",
      "CC SPAC1002.09c : GO:0005739 GO:0005960 GO:0005967 GO:0009353 GO:0045252\n",
      "CC SPAC1002.10c : GO:0005634 GO:0005829\n",
      "CC SPAC1002.11 : GO:0005783 GO:0042765\n",
      "CC SPAC1002.12c : GO:0005829\n",
      "CC SPAC1002.13c : GO:0009277 GO:0009986\n"
     ]
    }
   ],
   "source": [
    "for namespace, associations in gaf_reader[4896].get_ns2assc().items():\n",
    "    for protein_id, go_ids in sorted(associations.items())[:15]:\n",
    "        print(\"{NS} {PROT:7} : {GOs}\".format(\n",
    "            NS=namespace,\n",
    "            PROT=protein_id,\n",
    "            GOs=' '.join(sorted(go_ids))))"
   ]
  },
  {
   "cell_type": "markdown",
   "metadata": {},
   "source": [
    "# Bonus: The GAF is stored as a list of named tuples\n",
    "The list of namedtuples is stored in the **GafReader** data member named **_associations_**.\n",
    "\n",
    "Each namedtuple stores data for one line in the GAF file."
   ]
  },
  {
   "cell_type": "code",
   "execution_count": 15,
   "metadata": {},
   "outputs": [
    {
     "name": "stdout",
     "output_type": "stream",
     "text": [
      "ntgafobj(DB='UniProtKB', DB_ID='A0A0B4J1Y9', DB_Symbol='IGHV3-72', Qualifier={'enables'}, GO_ID='GO:0003823', DB_Reference={'PMID:21873635'}, Evidence_Code='IBA', With_From={'MGI:MGI:2686979', 'MGI:MGI:96446', 'PANTHER:PTN001510949', 'MGI:MGI:96445', 'UniProtKB:A0A075B6A3', 'MGI:MGI:96443', 'MGI:MGI:96448'}, NS='MF', DB_Name={'Immunoglobulin heavy variable 3-72'}, DB_Synonym={'UniProtKB:A0A0B4J1Y9', 'PTN002510257'}, DB_Type='protein', Taxon=[9606], Date=datetime.date(2017, 2, 28), Assigned_By='GO_Central', Extension=None, Gene_Product_Form_ID=set())\n"
     ]
    }
   ],
   "source": [
    "# Sort the list of GAF namedtuples by ID\n",
    "nts = sorted(ogaf.associations, key=lambda nt:nt.DB_ID)\n",
    "\n",
    "# Print one namedtuple\n",
    "print(nts[1012])"
   ]
  },
  {
   "cell_type": "markdown",
   "metadata": {},
   "source": [
    "## Namedtuple fields\n",
    "```\n",
    "DB             #  0 required 1              UniProtKB\n",
    "DB_ID          #  1 required 1              P12345\n",
    "DB_Symbol      #  2 required 1              PHO3\n",
    "Qualifier      #  3 optional 0 or greater   NOT\n",
    "GO_ID          #  4 required 1              GO:0003993\n",
    "DB_Reference   #  5 required 1 or greater   PMID:2676709\n",
    "Evidence_Code  #  6 required 1              IMP\n",
    "With_From      #  7 optional 0 or greater   GO:0000346\n",
    "Aspect         #  8 required 1              F\n",
    "DB_Name        #  9 optional 0 or 1         Toll-like receptor 4\n",
    "DB_Synonym     # 10 optional 0 or greater   hToll|Tollbooth\n",
    "DB_Type        # 11 required 1              protein\n",
    "Taxon          # 12 required 1 or 2         taxon:9606\n",
    "Date           # 13 required 1              20090118\n",
    "Assigned_By    # 14 required 1              SGD\n",
    "Annotation_Extension # 15 optional 0 or greater part_of(CL:0000576)\n",
    "Gene_Product_Form_ID # 16 optional 0 or 1       UniProtKB:P12345-2\n",
    "```"
   ]
  },
  {
   "cell_type": "markdown",
   "metadata": {},
   "source": [
    "## Print a subset of the namedtuple fields"
   ]
  },
  {
   "cell_type": "code",
   "execution_count": 18,
   "metadata": {},
   "outputs": [
    {
     "name": "stdout",
     "output_type": "stream",
     "text": [
      "A0A024R1R8 hCG_2014768   GO:0002181 {'involved_in'} IBA 2017-11-02 GO_Central\n",
      "A0A024RBG1 NUDT4B        GO:0003723 {'enables'} IEA 2021-04-17 UniProt\n",
      "A0A024RBG1 NUDT4B        GO:0046872 {'enables'} IEA 2021-04-17 UniProt\n",
      "A0A024RBG1 NUDT4B        GO:0052840 {'enables'} IEA 2021-04-17 UniProt\n",
      "A0A024RBG1 NUDT4B        GO:0052842 {'enables'} IEA 2021-04-17 UniProt\n",
      "A0A024RBG1 NUDT4B        GO:0005829 {'located_in'} IDA 2016-12-04 HPA\n",
      "A0A024RBG1 NUDT4B        GO:0034432 {'enables'} IBA 2017-02-28 GO_Central\n",
      "A0A024RBG1 NUDT4B        GO:0050072 {'enables'} IBA 2017-02-28 GO_Central\n",
      "A0A024RBG1 NUDT4B        GO:0000298 {'enables'} IBA 2017-02-28 GO_Central\n",
      "A0A024RBG1 NUDT4B        GO:1901911 {'involved_in'} IBA 2017-02-28 GO_Central\n",
      "A0A024RBG1 NUDT4B        GO:0071543 {'involved_in'} IBA 2017-02-28 GO_Central\n",
      "A0A024RBG1 NUDT4B        GO:1901907 {'involved_in'} IBA 2017-02-28 GO_Central\n",
      "A0A024RBG1 NUDT4B        GO:0008486 {'enables'} IBA 2017-02-28 GO_Central\n",
      "A0A024RBG1 NUDT4B        GO:1901909 {'involved_in'} IBA 2017-02-28 GO_Central\n",
      "A0A024RBG1 NUDT4B        GO:0005737 {'is_active_in'} IBA 2017-02-28 GO_Central\n",
      "A0A024RBG1 NUDT4B        GO:0005634 {'is_active_in'} IBA 2017-02-28 GO_Central\n",
      "A0A024RBG1 NUDT4B        GO:0034431 {'enables'} IBA 2017-02-28 GO_Central\n",
      "A0A075B6H5 TRBV20OR9-2   GO:0005886 {'is_active_in'} IBA 2020-08-09 GO_Central\n",
      "A0A075B6H5 TRBV20OR9-2   GO:0007166 {'involved_in'} IBA 2017-12-07 GO_Central\n",
      "A0A075B6H7 IGKV3-7       GO:0002250 {'involved_in'} IEA 2021-04-17 UniProt\n",
      "A0A075B6H7 IGKV3-7       GO:0005886 {'located_in'} IEA 2021-04-17 UniProt\n",
      "A0A075B6H7 IGKV3-7       GO:0019814 {'part_of'} IEA 2021-04-17 UniProt\n",
      "A0A075B6H7 IGKV3-7       GO:0005615 {'is_active_in'} IBA 2020-08-09 GO_Central\n",
      "A0A075B6H7 IGKV3-7       GO:0002377 {'involved_in'} IBA 2017-02-28 GO_Central\n",
      "A0A075B6H7 IGKV3-7       GO:0006955 {'involved_in'} IBA 2020-08-09 GO_Central\n",
      "A0A075B6H8 IGKV1D-42     GO:0002250 {'involved_in'} IEA 2021-04-17 UniProt\n",
      "A0A075B6H8 IGKV1D-42     GO:0005886 {'located_in'} IEA 2021-04-17 UniProt\n",
      "A0A075B6H8 IGKV1D-42     GO:0019814 {'part_of'} IEA 2021-04-17 UniProt\n",
      "A0A075B6H8 IGKV1D-42     GO:0005615 {'is_active_in'} IBA 2020-08-09 GO_Central\n",
      "A0A075B6H8 IGKV1D-42     GO:0002377 {'involved_in'} IBA 2017-02-28 GO_Central\n",
      "A0A075B6H8 IGKV1D-42     GO:0006955 {'involved_in'} IBA 2020-08-09 GO_Central\n",
      "A0A075B6H9 IGLV4-69      GO:0002250 {'involved_in'} IEA 2021-04-17 UniProt\n",
      "A0A075B6H9 IGLV4-69      GO:0005886 {'located_in'} IEA 2021-04-17 UniProt\n",
      "A0A075B6H9 IGLV4-69      GO:0019814 {'part_of'} IEA 2021-04-17 UniProt\n",
      "A0A075B6H9 IGLV4-69      GO:0005615 {'is_active_in'} IBA 2020-08-09 GO_Central\n",
      "A0A075B6H9 IGLV4-69      GO:0006955 {'involved_in'} IBA 2020-08-09 GO_Central\n",
      "A0A075B6H9 IGLV4-69      GO:0002377 {'involved_in'} IBA 2017-02-28 GO_Central\n",
      "A0A075B6I0 IGLV8-61      GO:0002250 {'involved_in'} IEA 2021-04-17 UniProt\n",
      "A0A075B6I0 IGLV8-61      GO:0005886 {'located_in'} IEA 2021-04-17 UniProt\n",
      "A0A075B6I0 IGLV8-61      GO:0019814 {'part_of'} IEA 2021-04-17 UniProt\n",
      "A0A075B6I0 IGLV8-61      GO:0005615 {'is_active_in'} IBA 2020-08-09 GO_Central\n",
      "A0A075B6I0 IGLV8-61      GO:0006955 {'involved_in'} IBA 2020-08-09 GO_Central\n",
      "A0A075B6I0 IGLV8-61      GO:0002377 {'involved_in'} IBA 2017-02-28 GO_Central\n",
      "A0A075B6I1 IGLV4-60      GO:0002250 {'involved_in'} IEA 2021-04-17 UniProt\n",
      "A0A075B6I1 IGLV4-60      GO:0005886 {'located_in'} IEA 2021-04-17 UniProt\n",
      "A0A075B6I1 IGLV4-60      GO:0019814 {'part_of'} IEA 2021-04-17 UniProt\n",
      "A0A075B6I1 IGLV4-60      GO:0005615 {'is_active_in'} IBA 2020-08-09 GO_Central\n",
      "A0A075B6I1 IGLV4-60      GO:0006955 {'involved_in'} IBA 2020-08-09 GO_Central\n",
      "A0A075B6I1 IGLV4-60      GO:0002377 {'involved_in'} IBA 2017-02-28 GO_Central\n",
      "A0A075B6I3 IGLV11-55     GO:0002250 {'involved_in'} IEA 2021-04-17 UniProt\n",
      "A0A075B6I3 IGLV11-55     GO:0005886 {'located_in'} IEA 2021-04-17 UniProt\n",
      "A0A075B6I3 IGLV11-55     GO:0019814 {'part_of'} IEA 2021-04-17 UniProt\n",
      "A0A075B6I3 IGLV11-55     GO:0005615 {'is_active_in'} IBA 2020-08-09 GO_Central\n",
      "A0A075B6I3 IGLV11-55     GO:0002377 {'involved_in'} IBA 2017-02-28 GO_Central\n",
      "A0A075B6I3 IGLV11-55     GO:0006955 {'involved_in'} IBA 2020-08-09 GO_Central\n",
      "A0A075B6I4 IGLV10-54     GO:0002250 {'involved_in'} IEA 2021-04-17 UniProt\n",
      "A0A075B6I4 IGLV10-54     GO:0005886 {'located_in'} IEA 2021-04-17 UniProt\n",
      "A0A075B6I4 IGLV10-54     GO:0019814 {'part_of'} IEA 2021-04-17 UniProt\n",
      "A0A075B6I4 IGLV10-54     GO:0005615 {'is_active_in'} IBA 2020-08-09 GO_Central\n",
      "A0A075B6I4 IGLV10-54     GO:0006955 {'involved_in'} IBA 2020-08-09 GO_Central\n",
      "A0A075B6I4 IGLV10-54     GO:0002377 {'involved_in'} IBA 2017-02-28 GO_Central\n",
      "A0A075B6I6 IGLV1-50      GO:0002250 {'involved_in'} IEA 2021-04-17 UniProt\n",
      "A0A075B6I6 IGLV1-50      GO:0005886 {'located_in'} IEA 2021-04-17 UniProt\n",
      "A0A075B6I6 IGLV1-50      GO:0019814 {'part_of'} IEA 2021-04-17 UniProt\n",
      "A0A075B6I6 IGLV1-50      GO:0005615 {'is_active_in'} IBA 2020-08-09 GO_Central\n",
      "A0A075B6I6 IGLV1-50      GO:0006955 {'involved_in'} IBA 2020-08-09 GO_Central\n",
      "A0A075B6I6 IGLV1-50      GO:0002377 {'involved_in'} IBA 2017-02-28 GO_Central\n",
      "A0A075B6I7 IGLV5-48      GO:0002250 {'involved_in'} IEA 2021-04-17 UniProt\n",
      "A0A075B6I7 IGLV5-48      GO:0005886 {'located_in'} IEA 2021-04-17 UniProt\n",
      "A0A075B6I7 IGLV5-48      GO:0019814 {'part_of'} IEA 2021-04-17 UniProt\n",
      "A0A075B6I7 IGLV5-48      GO:0005615 {'is_active_in'} IBA 2020-08-09 GO_Central\n",
      "A0A075B6I7 IGLV5-48      GO:0002377 {'involved_in'} IBA 2017-02-28 GO_Central\n",
      "A0A075B6I7 IGLV5-48      GO:0006955 {'involved_in'} IBA 2020-08-09 GO_Central\n",
      "A0A075B6I9 IGLV7-46      GO:0002250 {'involved_in'} IEA 2021-04-17 UniProt\n",
      "A0A075B6I9 IGLV7-46      GO:0005886 {'located_in'} IEA 2021-04-17 UniProt\n",
      "A0A075B6I9 IGLV7-46      GO:0019814 {'part_of'} IEA 2021-04-17 UniProt\n",
      "A0A075B6I9 IGLV7-46      GO:0002377 {'involved_in'} IBA 2017-02-28 GO_Central\n",
      "A0A075B6I9 IGLV7-46      GO:0005615 {'is_active_in'} IBA 2020-08-09 GO_Central\n",
      "A0A075B6I9 IGLV7-46      GO:0006955 {'involved_in'} IBA 2020-08-09 GO_Central\n",
      "A0A075B6J1 IGLV5-37      GO:0002250 {'involved_in'} IEA 2021-04-17 UniProt\n",
      "A0A075B6J1 IGLV5-37      GO:0005886 {'located_in'} IEA 2021-04-17 UniProt\n",
      "A0A075B6J1 IGLV5-37      GO:0019814 {'part_of'} IEA 2021-04-17 UniProt\n",
      "A0A075B6J1 IGLV5-37      GO:0006955 {'involved_in'} IBA 2020-08-09 GO_Central\n",
      "A0A075B6J1 IGLV5-37      GO:0005615 {'is_active_in'} IBA 2020-08-09 GO_Central\n",
      "A0A075B6J1 IGLV5-37      GO:0002377 {'involved_in'} IBA 2017-02-28 GO_Central\n",
      "A0A075B6J2 IGLV2-33      GO:0002250 {'involved_in'} IEA 2021-04-17 UniProt\n",
      "A0A075B6J2 IGLV2-33      GO:0005886 {'located_in'} IEA 2021-04-17 UniProt\n",
      "A0A075B6J2 IGLV2-33      GO:0019814 {'part_of'} IEA 2021-04-17 UniProt\n",
      "A0A075B6J2 IGLV2-33      GO:0006955 {'involved_in'} IBA 2020-08-09 GO_Central\n",
      "A0A075B6J2 IGLV2-33      GO:0005615 {'is_active_in'} IBA 2020-08-09 GO_Central\n",
      "A0A075B6J2 IGLV2-33      GO:0002377 {'involved_in'} IBA 2017-02-28 GO_Central\n",
      "A0A075B6J6 IGLV3-22      GO:0002250 {'involved_in'} IEA 2021-04-17 UniProt\n",
      "A0A075B6J6 IGLV3-22      GO:0005886 {'located_in'} IEA 2021-04-17 UniProt\n",
      "A0A075B6J6 IGLV3-22      GO:0019814 {'part_of'} IEA 2021-04-17 UniProt\n",
      "A0A075B6J6 IGLV3-22      GO:0006955 {'involved_in'} IBA 2020-08-09 GO_Central\n",
      "A0A075B6J6 IGLV3-22      GO:0005615 {'is_active_in'} IBA 2020-08-09 GO_Central\n",
      "A0A075B6J6 IGLV3-22      GO:0002377 {'involved_in'} IBA 2017-02-28 GO_Central\n",
      "A0A075B6J9 IGLV2-18      GO:0002250 {'involved_in'} IEA 2021-04-17 UniProt\n",
      "A0A075B6J9 IGLV2-18      GO:0005886 {'located_in'} IEA 2021-04-17 UniProt\n",
      "A0A075B6J9 IGLV2-18      GO:0019814 {'part_of'} IEA 2021-04-17 UniProt\n"
     ]
    }
   ],
   "source": [
    "fmtpat = '{DB_ID} {DB_Symbol:13} {GO_ID} {Qualifier} {Evidence_Code} {Date} {Assigned_By}'\n",
    "for nt_line in nts[:100]:\n",
    "    print(fmtpat.format(**nt_line._asdict()))"
   ]
  },
  {
   "cell_type": "markdown",
   "metadata": {},
   "source": [
    "Copyright (C) 2010-2019, DV Klopfenstein, Haibao Tang. All rights reserved."
   ]
  }
 ],
 "metadata": {
  "kernelspec": {
   "display_name": "Python 3 (Conda)",
   "language": "python",
   "name": "python3"
  },
  "language_info": {
   "codemirror_mode": {
    "name": "ipython",
    "version": 3
   },
   "file_extension": ".py",
   "mimetype": "text/x-python",
   "name": "python",
   "nbconvert_exporter": "python",
   "pygments_lexer": "ipython3",
   "version": "3.8.5"
  }
 },
 "nbformat": 4,
 "nbformat_minor": 2
}